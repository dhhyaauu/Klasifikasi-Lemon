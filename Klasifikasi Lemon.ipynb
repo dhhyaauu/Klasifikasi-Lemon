{
 "cells": [
  {
   "cell_type": "code",
   "execution_count": 33,
   "id": "e144b033-d731-4782-8865-0959b6e0c8ce",
   "metadata": {},
   "outputs": [],
   "source": [
    "import pandas as pd\n",
    "\n",
    "df = pd.read_csv(\"dataset_lemon.csv\")"
   ]
  },
  {
   "cell_type": "code",
   "execution_count": 34,
   "id": "ebda82d8-afe0-40c3-bae9-84f2ebd8e3f3",
   "metadata": {},
   "outputs": [
    {
     "data": {
      "text/html": [
       "<div>\n",
       "<style scoped>\n",
       "    .dataframe tbody tr th:only-of-type {\n",
       "        vertical-align: middle;\n",
       "    }\n",
       "\n",
       "    .dataframe tbody tr th {\n",
       "        vertical-align: top;\n",
       "    }\n",
       "\n",
       "    .dataframe thead th {\n",
       "        text-align: right;\n",
       "    }\n",
       "</style>\n",
       "<table border=\"1\" class=\"dataframe\">\n",
       "  <thead>\n",
       "    <tr style=\"text-align: right;\">\n",
       "      <th></th>\n",
       "      <th>diameter</th>\n",
       "      <th>berat</th>\n",
       "      <th>tebal_kulit</th>\n",
       "      <th>kadar_gula</th>\n",
       "      <th>asal_daerah</th>\n",
       "      <th>musim_panen</th>\n",
       "      <th>warna</th>\n",
       "      <th>kualitas</th>\n",
       "    </tr>\n",
       "  </thead>\n",
       "  <tbody>\n",
       "    <tr>\n",
       "      <th>0</th>\n",
       "      <td>57.1</td>\n",
       "      <td>105</td>\n",
       "      <td>3.7</td>\n",
       "      <td>8.4</td>\n",
       "      <td>California</td>\n",
       "      <td>Puncak</td>\n",
       "      <td>Kuning cerah</td>\n",
       "      <td>Grade A</td>\n",
       "    </tr>\n",
       "    <tr>\n",
       "      <th>1</th>\n",
       "      <td>60.2</td>\n",
       "      <td>118</td>\n",
       "      <td>3.8</td>\n",
       "      <td>8.2</td>\n",
       "      <td>Malang</td>\n",
       "      <td>Puncak</td>\n",
       "      <td>Kuning cerah</td>\n",
       "      <td>Grade A</td>\n",
       "    </tr>\n",
       "    <tr>\n",
       "      <th>2</th>\n",
       "      <td>48.5</td>\n",
       "      <td>80</td>\n",
       "      <td>4.6</td>\n",
       "      <td>7.8</td>\n",
       "      <td>Medan</td>\n",
       "      <td>Akhir</td>\n",
       "      <td>Kuning kehijauan</td>\n",
       "      <td>Grade B</td>\n",
       "    </tr>\n",
       "    <tr>\n",
       "      <th>3</th>\n",
       "      <td>65.8</td>\n",
       "      <td>136</td>\n",
       "      <td>5.1</td>\n",
       "      <td>7.0</td>\n",
       "      <td>California</td>\n",
       "      <td>Akhir</td>\n",
       "      <td>Hijau pekat</td>\n",
       "      <td>Reject</td>\n",
       "    </tr>\n",
       "    <tr>\n",
       "      <th>4</th>\n",
       "      <td>55.9</td>\n",
       "      <td>101</td>\n",
       "      <td>3.5</td>\n",
       "      <td>8.5</td>\n",
       "      <td>Malang</td>\n",
       "      <td>Awal</td>\n",
       "      <td>Kuning cerah</td>\n",
       "      <td>Grade A</td>\n",
       "    </tr>\n",
       "  </tbody>\n",
       "</table>\n",
       "</div>"
      ],
      "text/plain": [
       "   diameter  berat  tebal_kulit  kadar_gula asal_daerah musim_panen  \\\n",
       "0      57.1    105          3.7         8.4  California      Puncak   \n",
       "1      60.2    118          3.8         8.2      Malang      Puncak   \n",
       "2      48.5     80          4.6         7.8       Medan       Akhir   \n",
       "3      65.8    136          5.1         7.0  California       Akhir   \n",
       "4      55.9    101          3.5         8.5      Malang        Awal   \n",
       "\n",
       "              warna kualitas  \n",
       "0      Kuning cerah  Grade A  \n",
       "1      Kuning cerah  Grade A  \n",
       "2  Kuning kehijauan  Grade B  \n",
       "3       Hijau pekat   Reject  \n",
       "4      Kuning cerah  Grade A  "
      ]
     },
     "execution_count": 34,
     "metadata": {},
     "output_type": "execute_result"
    }
   ],
   "source": [
    "df.head()"
   ]
  },
  {
   "cell_type": "code",
   "execution_count": 35,
   "id": "88f83b94-84e5-4256-acdf-a5bcab78dad2",
   "metadata": {},
   "outputs": [
    {
     "data": {
      "text/html": [
       "<div>\n",
       "<style scoped>\n",
       "    .dataframe tbody tr th:only-of-type {\n",
       "        vertical-align: middle;\n",
       "    }\n",
       "\n",
       "    .dataframe tbody tr th {\n",
       "        vertical-align: top;\n",
       "    }\n",
       "\n",
       "    .dataframe thead th {\n",
       "        text-align: right;\n",
       "    }\n",
       "</style>\n",
       "<table border=\"1\" class=\"dataframe\">\n",
       "  <thead>\n",
       "    <tr style=\"text-align: right;\">\n",
       "      <th></th>\n",
       "      <th>diameter</th>\n",
       "      <th>berat</th>\n",
       "      <th>tebal_kulit</th>\n",
       "      <th>kadar_gula</th>\n",
       "      <th>asal_daerah</th>\n",
       "      <th>musim_panen</th>\n",
       "      <th>warna</th>\n",
       "      <th>kualitas</th>\n",
       "    </tr>\n",
       "  </thead>\n",
       "  <tbody>\n",
       "    <tr>\n",
       "      <th>790</th>\n",
       "      <td>54.9</td>\n",
       "      <td>98</td>\n",
       "      <td>4.2</td>\n",
       "      <td>7.7</td>\n",
       "      <td>Medan</td>\n",
       "      <td>Akhir</td>\n",
       "      <td>Kuning kehijauan</td>\n",
       "      <td>Grade B</td>\n",
       "    </tr>\n",
       "    <tr>\n",
       "      <th>791</th>\n",
       "      <td>67.2</td>\n",
       "      <td>141</td>\n",
       "      <td>5.7</td>\n",
       "      <td>6.8</td>\n",
       "      <td>California</td>\n",
       "      <td>Akhir</td>\n",
       "      <td>Hijau pekat</td>\n",
       "      <td>Reject</td>\n",
       "    </tr>\n",
       "    <tr>\n",
       "      <th>792</th>\n",
       "      <td>57.0</td>\n",
       "      <td>105</td>\n",
       "      <td>3.5</td>\n",
       "      <td>8.4</td>\n",
       "      <td>Malang</td>\n",
       "      <td>Awal</td>\n",
       "      <td>Kuning cerah</td>\n",
       "      <td>Grade A</td>\n",
       "    </tr>\n",
       "    <tr>\n",
       "      <th>793</th>\n",
       "      <td>51.1</td>\n",
       "      <td>89</td>\n",
       "      <td>4.5</td>\n",
       "      <td>7.9</td>\n",
       "      <td>Medan</td>\n",
       "      <td>Puncak</td>\n",
       "      <td>Kuning kehijauan</td>\n",
       "      <td>Grade B</td>\n",
       "    </tr>\n",
       "    <tr>\n",
       "      <th>794</th>\n",
       "      <td>59.0</td>\n",
       "      <td>110</td>\n",
       "      <td>3.9</td>\n",
       "      <td>8.0</td>\n",
       "      <td>California</td>\n",
       "      <td>Puncak</td>\n",
       "      <td>Kuning cerah</td>\n",
       "      <td>Grade A</td>\n",
       "    </tr>\n",
       "  </tbody>\n",
       "</table>\n",
       "</div>"
      ],
      "text/plain": [
       "     diameter  berat  tebal_kulit  kadar_gula asal_daerah musim_panen  \\\n",
       "790      54.9     98          4.2         7.7       Medan       Akhir   \n",
       "791      67.2    141          5.7         6.8  California       Akhir   \n",
       "792      57.0    105          3.5         8.4      Malang        Awal   \n",
       "793      51.1     89          4.5         7.9       Medan      Puncak   \n",
       "794      59.0    110          3.9         8.0  California      Puncak   \n",
       "\n",
       "                warna kualitas  \n",
       "790  Kuning kehijauan  Grade B  \n",
       "791       Hijau pekat   Reject  \n",
       "792      Kuning cerah  Grade A  \n",
       "793  Kuning kehijauan  Grade B  \n",
       "794      Kuning cerah  Grade A  "
      ]
     },
     "execution_count": 35,
     "metadata": {},
     "output_type": "execute_result"
    }
   ],
   "source": [
    "df.tail()"
   ]
  },
  {
   "cell_type": "code",
   "execution_count": 36,
   "id": "7a7df22a-2ccd-4a84-9c39-bb0948cac4b9",
   "metadata": {},
   "outputs": [
    {
     "data": {
      "text/plain": [
       "diameter       float64\n",
       "berat            int64\n",
       "tebal_kulit    float64\n",
       "kadar_gula     float64\n",
       "asal_daerah     object\n",
       "musim_panen     object\n",
       "warna           object\n",
       "kualitas        object\n",
       "dtype: object"
      ]
     },
     "execution_count": 36,
     "metadata": {},
     "output_type": "execute_result"
    }
   ],
   "source": [
    "df.dtypes"
   ]
  },
  {
   "cell_type": "code",
   "execution_count": 37,
   "id": "d4658174-0c63-40fc-a8b8-8f1571577f88",
   "metadata": {},
   "outputs": [
    {
     "name": "stdout",
     "output_type": "stream",
     "text": [
      "<class 'pandas.core.frame.DataFrame'>\n",
      "RangeIndex: 795 entries, 0 to 794\n",
      "Data columns (total 8 columns):\n",
      " #   Column       Non-Null Count  Dtype  \n",
      "---  ------       --------------  -----  \n",
      " 0   diameter     795 non-null    float64\n",
      " 1   berat        795 non-null    int64  \n",
      " 2   tebal_kulit  795 non-null    float64\n",
      " 3   kadar_gula   795 non-null    float64\n",
      " 4   asal_daerah  795 non-null    object \n",
      " 5   musim_panen  795 non-null    object \n",
      " 6   warna        795 non-null    object \n",
      " 7   kualitas     795 non-null    object \n",
      "dtypes: float64(3), int64(1), object(4)\n",
      "memory usage: 49.8+ KB\n"
     ]
    }
   ],
   "source": [
    "df.info()"
   ]
  },
  {
   "cell_type": "code",
   "execution_count": 38,
   "id": "c1f98257-cffb-4546-9137-86536f674644",
   "metadata": {},
   "outputs": [
    {
     "data": {
      "text/html": [
       "<div>\n",
       "<style scoped>\n",
       "    .dataframe tbody tr th:only-of-type {\n",
       "        vertical-align: middle;\n",
       "    }\n",
       "\n",
       "    .dataframe tbody tr th {\n",
       "        vertical-align: top;\n",
       "    }\n",
       "\n",
       "    .dataframe thead th {\n",
       "        text-align: right;\n",
       "    }\n",
       "</style>\n",
       "<table border=\"1\" class=\"dataframe\">\n",
       "  <thead>\n",
       "    <tr style=\"text-align: right;\">\n",
       "      <th></th>\n",
       "      <th>diameter</th>\n",
       "      <th>berat</th>\n",
       "      <th>tebal_kulit</th>\n",
       "      <th>kadar_gula</th>\n",
       "    </tr>\n",
       "  </thead>\n",
       "  <tbody>\n",
       "    <tr>\n",
       "      <th>count</th>\n",
       "      <td>795.000000</td>\n",
       "      <td>795.000000</td>\n",
       "      <td>795.000000</td>\n",
       "      <td>795.000000</td>\n",
       "    </tr>\n",
       "    <tr>\n",
       "      <th>mean</th>\n",
       "      <td>56.646918</td>\n",
       "      <td>105.427673</td>\n",
       "      <td>4.324906</td>\n",
       "      <td>7.772075</td>\n",
       "    </tr>\n",
       "    <tr>\n",
       "      <th>std</th>\n",
       "      <td>6.134574</td>\n",
       "      <td>19.890398</td>\n",
       "      <td>0.711215</td>\n",
       "      <td>0.514304</td>\n",
       "    </tr>\n",
       "    <tr>\n",
       "      <th>min</th>\n",
       "      <td>45.500000</td>\n",
       "      <td>70.000000</td>\n",
       "      <td>3.400000</td>\n",
       "      <td>6.700000</td>\n",
       "    </tr>\n",
       "    <tr>\n",
       "      <th>25%</th>\n",
       "      <td>51.600000</td>\n",
       "      <td>91.000000</td>\n",
       "      <td>3.800000</td>\n",
       "      <td>7.400000</td>\n",
       "    </tr>\n",
       "    <tr>\n",
       "      <th>50%</th>\n",
       "      <td>56.100000</td>\n",
       "      <td>103.000000</td>\n",
       "      <td>4.200000</td>\n",
       "      <td>7.900000</td>\n",
       "    </tr>\n",
       "    <tr>\n",
       "      <th>75%</th>\n",
       "      <td>61.300000</td>\n",
       "      <td>121.000000</td>\n",
       "      <td>4.600000</td>\n",
       "      <td>8.200000</td>\n",
       "    </tr>\n",
       "    <tr>\n",
       "      <th>max</th>\n",
       "      <td>68.500000</td>\n",
       "      <td>145.000000</td>\n",
       "      <td>6.000000</td>\n",
       "      <td>8.600000</td>\n",
       "    </tr>\n",
       "  </tbody>\n",
       "</table>\n",
       "</div>"
      ],
      "text/plain": [
       "         diameter       berat  tebal_kulit  kadar_gula\n",
       "count  795.000000  795.000000   795.000000  795.000000\n",
       "mean    56.646918  105.427673     4.324906    7.772075\n",
       "std      6.134574   19.890398     0.711215    0.514304\n",
       "min     45.500000   70.000000     3.400000    6.700000\n",
       "25%     51.600000   91.000000     3.800000    7.400000\n",
       "50%     56.100000  103.000000     4.200000    7.900000\n",
       "75%     61.300000  121.000000     4.600000    8.200000\n",
       "max     68.500000  145.000000     6.000000    8.600000"
      ]
     },
     "execution_count": 38,
     "metadata": {},
     "output_type": "execute_result"
    }
   ],
   "source": [
    "df.describe()"
   ]
  },
  {
   "cell_type": "code",
   "execution_count": 39,
   "id": "f53bd586-dd15-4475-ad58-8483d5f53dc2",
   "metadata": {},
   "outputs": [
    {
     "data": {
      "text/plain": [
       "Index(['diameter', 'berat', 'tebal_kulit', 'kadar_gula', 'asal_daerah',\n",
       "       'musim_panen', 'warna', 'kualitas'],\n",
       "      dtype='object')"
      ]
     },
     "execution_count": 39,
     "metadata": {},
     "output_type": "execute_result"
    }
   ],
   "source": [
    "df.columns"
   ]
  },
  {
   "cell_type": "code",
   "execution_count": 40,
   "id": "406a6a77-fa5c-4805-afd5-04fe5c14285f",
   "metadata": {},
   "outputs": [
    {
     "data": {
      "text/plain": [
       "diameter\n",
       "51.6    13\n",
       "51.7    12\n",
       "54.7    12\n",
       "50.6    12\n",
       "54.3    12\n",
       "        ..\n",
       "46.0     1\n",
       "62.0     1\n",
       "55.5     1\n",
       "65.0     1\n",
       "50.0     1\n",
       "Name: count, Length: 156, dtype: int64"
      ]
     },
     "execution_count": 40,
     "metadata": {},
     "output_type": "execute_result"
    }
   ],
   "source": [
    "df[\"diameter\"].value_counts()"
   ]
  },
  {
   "cell_type": "code",
   "execution_count": 41,
   "id": "f57cc842-1d08-407d-8b69-53a1eb6ad183",
   "metadata": {},
   "outputs": [
    {
     "data": {
      "text/plain": [
       "berat\n",
       "91     50\n",
       "89     27\n",
       "98     26\n",
       "105    26\n",
       "110    26\n",
       "       ..\n",
       "123     1\n",
       "137     1\n",
       "115     1\n",
       "109     1\n",
       "73      1\n",
       "Name: count, Length: 64, dtype: int64"
      ]
     },
     "execution_count": 41,
     "metadata": {},
     "output_type": "execute_result"
    }
   ],
   "source": [
    "df[\"berat\"].value_counts()"
   ]
  },
  {
   "cell_type": "code",
   "execution_count": 42,
   "id": "0d431fb3-8337-4e31-b311-e4b38cea02d3",
   "metadata": {},
   "outputs": [
    {
     "data": {
      "text/plain": [
       "tebal_kulit\n",
       "4.5    78\n",
       "3.9    54\n",
       "3.8    53\n",
       "3.5    53\n",
       "4.2    53\n",
       "4.0    53\n",
       "3.7    53\n",
       "3.6    53\n",
       "4.3    52\n",
       "4.6    27\n",
       "4.4    27\n",
       "4.1    27\n",
       "3.4    27\n",
       "5.9    26\n",
       "4.7    26\n",
       "4.9    26\n",
       "6.0    26\n",
       "5.0    26\n",
       "5.6    26\n",
       "5.7    26\n",
       "5.1     1\n",
       "5.8     1\n",
       "5.5     1\n",
       "Name: count, dtype: int64"
      ]
     },
     "execution_count": 42,
     "metadata": {},
     "output_type": "execute_result"
    }
   ],
   "source": [
    "df[\"tebal_kulit\"].value_counts()"
   ]
  },
  {
   "cell_type": "code",
   "execution_count": 43,
   "id": "7441dbbd-43e5-45b6-99a8-27166c45d2bc",
   "metadata": {},
   "outputs": [
    {
     "data": {
      "text/plain": [
       "kadar_gula\n",
       "8.1    79\n",
       "8.0    54\n",
       "8.4    53\n",
       "8.2    53\n",
       "8.3    53\n",
       "7.7    53\n",
       "7.9    53\n",
       "7.6    53\n",
       "6.8    52\n",
       "7.5    52\n",
       "7.4    52\n",
       "7.8    27\n",
       "8.5    27\n",
       "7.2    27\n",
       "8.6    27\n",
       "7.3    26\n",
       "6.7    26\n",
       "7.1    26\n",
       "7.0     1\n",
       "6.9     1\n",
       "Name: count, dtype: int64"
      ]
     },
     "execution_count": 43,
     "metadata": {},
     "output_type": "execute_result"
    }
   ],
   "source": [
    "df[\"kadar_gula\"].value_counts()"
   ]
  },
  {
   "cell_type": "code",
   "execution_count": 44,
   "id": "4db20821-02fa-4d7a-918a-c8e2aa148dd9",
   "metadata": {},
   "outputs": [
    {
     "data": {
      "text/plain": [
       "asal_daerah\n",
       "California    265\n",
       "Malang        265\n",
       "Medan         265\n",
       "Name: count, dtype: int64"
      ]
     },
     "execution_count": 44,
     "metadata": {},
     "output_type": "execute_result"
    }
   ],
   "source": [
    "df[\"asal_daerah\"].value_counts()"
   ]
  },
  {
   "cell_type": "code",
   "execution_count": 45,
   "id": "ea254c98-6b51-4be6-9c9e-ca6f31296e27",
   "metadata": {},
   "outputs": [
    {
     "data": {
      "text/plain": [
       "musim_panen\n",
       "Puncak    318\n",
       "Akhir     239\n",
       "Awal      238\n",
       "Name: count, dtype: int64"
      ]
     },
     "execution_count": 45,
     "metadata": {},
     "output_type": "execute_result"
    }
   ],
   "source": [
    "df[\"musim_panen\"].value_counts()"
   ]
  },
  {
   "cell_type": "code",
   "execution_count": 46,
   "id": "70049801-d028-4483-b909-f51bd8432c00",
   "metadata": {},
   "outputs": [
    {
     "data": {
      "text/plain": [
       "warna\n",
       "Kuning cerah        346\n",
       "Kuning kehijauan    290\n",
       "Hijau pekat         159\n",
       "Name: count, dtype: int64"
      ]
     },
     "execution_count": 46,
     "metadata": {},
     "output_type": "execute_result"
    }
   ],
   "source": [
    "df[\"warna\"].value_counts()"
   ]
  },
  {
   "cell_type": "code",
   "execution_count": 47,
   "id": "c92a8c97-b678-475f-8bb6-d3126650e653",
   "metadata": {},
   "outputs": [
    {
     "data": {
      "text/plain": [
       "kualitas\n",
       "Grade A    346\n",
       "Grade B    290\n",
       "Reject     159\n",
       "Name: count, dtype: int64"
      ]
     },
     "execution_count": 47,
     "metadata": {},
     "output_type": "execute_result"
    }
   ],
   "source": [
    "df[\"kualitas\"].value_counts()"
   ]
  },
  {
   "cell_type": "code",
   "execution_count": 49,
   "id": "f9afcabd-d78e-4481-92f9-8e893ad55594",
   "metadata": {},
   "outputs": [
    {
     "data": {
      "text/plain": [
       "(795, 8)"
      ]
     },
     "execution_count": 49,
     "metadata": {},
     "output_type": "execute_result"
    }
   ],
   "source": [
    "df.shape"
   ]
  },
  {
   "cell_type": "code",
   "execution_count": 58,
   "id": "2bbf16d2-27b3-4345-ac73-dad7cb7f36eb",
   "metadata": {},
   "outputs": [
    {
     "data": {
      "image/png": "[encoded data removed]",
      "text/plain": [
       "<Figure size 600x500 with 1 Axes>"
      ]
     },
     "metadata": {},
     "output_type": "display_data"
    }
   ],
   "source": [
    "import matplotlib.pyplot as plt\n",
    "\n",
    "grade_a = df[df[\"kualitas\"]==\"Grade A\"]\n",
    "grade_b = df[df[\"kualitas\"]==\"Grade B\"]\n",
    "reject = df[df[\"kualitas\"]==\"Reject\"]\n",
    "\n",
    "plt.figure(figsize=(6,5))\n",
    "\n",
    "plt.scatter(grade_a[\"diameter\"], grade_a[\"berat\"], s=100, alpha=0.7, color=\"blue\", label=\"Grade A\")\n",
    "plt.scatter(grade_b[\"diameter\"], grade_b[\"berat\"], s=100, alpha=0.7, color=\"yellow\", label=\"Grade B\")\n",
    "plt.scatter(reject[\"diameter\"], reject[\"berat\"], s=100, alpha=0.7, color=\"red\", label=\"Reject\")\n",
    "plt.xlabel(\"Diameter\")\n",
    "plt.ylabel(\"Berat\")\n",
    "plt.title(\"Diameter vs Berat\")\n",
    "plt.legend()\n",
    "plt.grid(True,linestyle=\"--\",alpha=0.5)\n",
    "plt.show()"
   ]
  },
  {
   "cell_type": "code",
   "execution_count": 77,
   "id": "61f7d046-f0bf-4e3a-aa27-464311efd41a",
   "metadata": {},
   "outputs": [
    {
     "name": "stdout",
     "output_type": "stream",
     "text": [
      "Accuracy : 1.0\n",
      "\n",
      "Classification Report :\n",
      "               precision    recall  f1-score   support\n",
      "\n",
      "     Grade A       1.00      1.00      1.00        71\n",
      "     Grade B       1.00      1.00      1.00        53\n",
      "      Reject       1.00      1.00      1.00        35\n",
      "\n",
      "    accuracy                           1.00       159\n",
      "   macro avg       1.00      1.00      1.00       159\n",
      "weighted avg       1.00      1.00      1.00       159\n",
      "\n",
      "\n",
      "Confusion Matrix :\n",
      " [[71  0  0]\n",
      " [ 0 53  0]\n",
      " [ 0  0 35]]\n"
     ]
    }
   ],
   "source": [
    "from sklearn.linear_model import LogisticRegression\n",
    "from sklearn.model_selection import train_test_split\n",
    "from sklearn.preprocessing import StandardScaler, OneHotEncoder, OrdinalEncoder\n",
    "from sklearn.metrics import accuracy_score,classification_report, confusion_matrix\n",
    "from sklearn.pipeline import Pipeline\n",
    "from sklearn.compose import ColumnTransformer\n",
    "\n",
    "X = df[[\"diameter\",\"berat\",\"tebal_kulit\",\"kadar_gula\",\"asal_daerah\",\"warna\",\"musim_panen\"]]\n",
    "y = df[\"kualitas\"]\n",
    "\n",
    "X_train, X_test, y_train, y_test = train_test_split(\n",
    "    X, y, test_size=0.2, random_state=42\n",
    ")\n",
    "\n",
    "numeric_columns = [\"diameter\", \"berat\", \"tebal_kulit\", \"kadar_gula\"]\n",
    "categorical_columns = [\"asal_daerah\",\"musim_panen\"]\n",
    "ordinal_columns = [\"warna\"]\n",
    "\n",
    "warna_order = [\"Hijau pekat\", \"Kuning kehijauan\", \"Kuning cerah\"]\n",
    "ordinal_order = [warna_order]\n",
    "\n",
    "preprocessing = ColumnTransformer(\n",
    "    transformers=[\n",
    "        (\"scaler\", StandardScaler(), numeric_columns),\n",
    "        (\"ohe\", OneHotEncoder(), categorical_columns),\n",
    "        (\"oe\", OrdinalEncoder(categories=ordinal_order), ordinal_columns)\n",
    "    ]\n",
    ")\n",
    "\n",
    "model = Pipeline(\n",
    "    steps=[\n",
    "        (\"preprocessing\", preprocessing),\n",
    "        (\"model\", LogisticRegression())\n",
    "    ]\n",
    ")\n",
    "\n",
    "model.fit(X_train, y_train)\n",
    "y_pred = model.predict(X_test)\n",
    "print(\"Accuracy :\", accuracy_score(y_test, y_pred))\n",
    "print(\"\\nClassification Report :\\n\", classification_report(y_test, y_pred))\n",
    "print(\"\\nConfusion Matrix :\\n\", confusion_matrix(y_test, y_pred))"
   ]
  },
  {
   "cell_type": "code",
   "execution_count": 78,
   "id": "7c8cd42d-a682-49d4-9b4d-5f625cdb4d20",
   "metadata": {},
   "outputs": [
    {
     "name": "stdout",
     "output_type": "stream",
     "text": [
      "['Kuning kehijauan' 'Kuning cerah' 'Hijau pekat']\n"
     ]
    }
   ],
   "source": [
    "print(X_train[\"warna\"].unique())"
   ]
  },
  {
   "cell_type": "code",
   "execution_count": 70,
   "id": "c19ebf23-5bdc-467c-8f07-428887d74941",
   "metadata": {},
   "outputs": [
    {
     "name": "stdout",
     "output_type": "stream",
     "text": [
      "Scores : [1. 1. 1. 1. 1.]\n",
      "Mean Accuracy : 1.0\n"
     ]
    }
   ],
   "source": [
    "from sklearn.model_selection import cross_val_score\n",
    "\n",
    "scores = cross_val_score(model, X, y, cv=5, scoring=\"accuracy\")\n",
    "print(\"Scores :\", scores)\n",
    "print(\"Mean Accuracy :\", scores.mean())"
   ]
  },
  {
   "cell_type": "code",
   "execution_count": 72,
   "id": "04009544-b4a6-4229-8550-52f2e8d7fae3",
   "metadata": {},
   "outputs": [
    {
     "data": {
      "image/png": "[encoded data removed]",
      "text/plain": [
       "<Figure size 600x500 with 1 Axes>"
      ]
     },
     "metadata": {},
     "output_type": "display_data"
    }
   ],
   "source": [
    "import matplotlib.pyplot as plt\n",
    "\n",
    "grade_a = df[df[\"kualitas\"]==\"Grade A\"]\n",
    "grade_b = df[df[\"kualitas\"]==\"Grade B\"]\n",
    "reject = df[df[\"kualitas\"]==\"Reject\"]\n",
    "\n",
    "plt.figure(figsize=(6,5))\n",
    "\n",
    "plt.scatter(grade_a[\"tebal_kulit\"], grade_a[\"kadar_gula\"], s=100, alpha=0.7, color=\"blue\", label=\"Grade A\")\n",
    "plt.scatter(grade_b[\"tebal_kulit\"], grade_b[\"kadar_gula\"], s=100, alpha=0.7, color=\"orange\", label=\"Grade B\")\n",
    "plt.scatter(reject[\"tebal_kulit\"], reject[\"kadar_gula\"], s=100, alpha=0.7, color=\"red\", label=\"Reject\")\n",
    "plt.xlabel(\"Tebal Kulit\")\n",
    "plt.ylabel(\"Kadar Gula\")\n",
    "plt.title(\"Tebal Kulit vs Kadar Gula\")\n",
    "plt.legend()\n",
    "plt.grid(True, linestyle=\"--\", alpha=0.3)\n",
    "plt.show()"
   ]
  },
  {
   "cell_type": "code",
   "execution_count": 73,
   "id": "cb49d385-23d5-4287-8920-2bc73de718d7",
   "metadata": {},
   "outputs": [],
   "source": [
    "from sklearn.model_selection import GridSearchCV\n",
    "\n",
    "param_grid = {\n",
    "    \"model__C\" : [0.01, 0.1, 1, 10, 100],\n",
    "    \"model__penalty\" : [\"l2\"],\n",
    "    \"model__solver\" : [\"lbfgs\", \"saga\"]\n",
    "}"
   ]
  },
  {
   "cell_type": "code",
   "execution_count": 74,
   "id": "93d23624-d2fe-4d99-b404-23e8196dec11",
   "metadata": {},
   "outputs": [
    {
     "data": {
      "text/plain": [
       "['dataset_lemon.csv']"
      ]
     },
     "execution_count": 74,
     "metadata": {},
     "output_type": "execute_result"
    }
   ],
   "source": [
    "import joblib\n",
    "\n",
    "joblib.dump(model, \"dataset_lemon.csv\")"
   ]
  },
  {
   "cell_type": "code",
   "execution_count": null,
   "id": "085bea73-8b02-45f7-8411-812f2c3bd6d4",
   "metadata": {},
   "outputs": [],
   "source": []
  }
 ],
 "metadata": {
  "kernelspec": {
   "display_name": "Python 3 (ipykernel)",
   "language": "python",
   "name": "python3"
  },
  "language_info": {
   "codemirror_mode": {
    "name": "ipython",
    "version": 3
   },
   "file_extension": ".py",
   "mimetype": "text/x-python",
   "name": "python",
   "nbconvert_exporter": "python",
   "pygments_lexer": "ipython3",
   "version": "3.13.5"
  }
 },
 "nbformat": 4,
 "nbformat_minor": 5
}
